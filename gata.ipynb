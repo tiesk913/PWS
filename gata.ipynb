{
 "cells": [
  {
   "cell_type": "markdown",
   "metadata": {},
   "source": [
    "# data processing:\n",
    "## installing and importing needed python library's, and the data:"
   ]
  },
  {
   "cell_type": "code",
   "execution_count": null,
   "metadata": {},
   "outputs": [],
   "source": [
    "import sys\n",
    "!{sys.executable} -m pip install scipy\n",
    "!{sys.executable} -m pip install numpy\n",
    "!{sys.executable} -m pip install pandas\n",
    "import pandas as pd \n",
    "import numpy as np\n",
    "import scipy.special\n",
    "\n",
    "\n",
    "url = \"https://docs.google.com/spreadsheets/d/1H-2dgSCb3EgCMEgXDOtoJ5ol9Lt1lmAeXistsCpbJ44/export?format=csv&gid=0\"\n",
    "\n",
    "df = pd.read_csv(url)\n",
    "print (df)"
   ]
  },
  {
   "cell_type": "markdown",
   "metadata": {},
   "source": [
    "## visualising:\n",
    "### plotting the scatterplots:\n"
   ]
  },
  {
   "cell_type": "code",
   "execution_count": null,
   "metadata": {},
   "outputs": [],
   "source": [
    "ax = df.plot(kind = \"scatter\", y = \"ronde tijd 1\", x = \"leeftijd\", title = \"racetijden tegen leeftijd\")\n",
    "ax2 = df.plot(kind = \"scatter\", y = \"ronde tijd 2\", x = \"leeftijd\", ax = ax)\n",
    "ax3 = df.plot(kind = \"scatter\", y = \"ronde tijd 3\", x = \"leeftijd\", ax = ax)\n",
    "ax4 = df.plot(kind = \"scatter\", y = \"avg tijd\", x = \"leeftijd\", ax = ax, color = \"r\")\n",
    "ax.set_ylabel(\"rondetijden (seconden)\")"
   ]
  },
  {
   "cell_type": "code",
   "execution_count": null,
   "metadata": {},
   "outputs": [],
   "source": [
    "ax = df.plot(kind = \"scatter\", y = \"reactiesnelheid kleur\", x = \"leeftijd\", title = \"reactiesnelheden tegen leeftijd\")\n",
    "ax2 = df.plot(kind = \"scatter\", y = \"reactiesnelheid geluid\", x = \"leeftijd\", ax = ax)\n",
    "ax.set_ylabel(\"Reactiesnelheid (milliseconden)\")"
   ]
  },
  {
   "cell_type": "code",
   "execution_count": null,
   "metadata": {},
   "outputs": [],
   "source": [
    "ax = df.plot(kind = \"scatter\", y = \"ronde tijd 1\", x = \"rea gem\", title = \"racetijden tegen reactiesnelheid\")\n",
    "ax2 = df.plot(kind = \"scatter\", y = \"ronde tijd 2\", x = \"rea gem\", ax = ax)\n",
    "ax3 = df.plot(kind = \"scatter\", y = \"ronde tijd 3\", x = \"rea gem\", ax = ax)\n",
    "ax4 = df.plot(kind = \"scatter\", y = \"avg tijd\", x = \"rea gem\", ax = ax, color = \"r\")\n",
    "ax.set_ylabel(\"racetijden (seconden)\")\n",
    "ax.set_xlabel(\"Reactiesnelheid (milliseconden)\")"
   ]
  },
  {
   "cell_type": "code",
   "execution_count": null,
   "metadata": {},
   "outputs": [],
   "source": [
    "# padding om te zorgen dat er geen error komt\n",
    "df[\"X\"] = [225, 250, 300, 350, 400, 400, 400, 400, 400, 400, 400, 400, 400, 400, 400]\n",
    "df[\"mediaan\"] = [80, 108, 93, 110, 125, 125, 125, 125, 125, 125, 125, 125, 125, 125, 125]\n",
    "\n",
    "ax = df.plot(kind = \"scatter\", y = \"ronde tijd 1\", x = \"rea gem\", title = \"racetijden tegen reactiesnelheid\")\n",
    "ax2 = df.plot(kind = \"scatter\", y = \"ronde tijd 2\", x = \"rea gem\", ax = ax)\n",
    "ax3 = df.plot(kind = \"scatter\", y = \"ronde tijd 3\", x = \"rea gem\", ax = ax)\n",
    "ax4 = df.plot(kind = \"scatter\", y = \"avg tijd\", x = \"rea gem\", ax = ax)\n",
    "ax5 = df.plot(kind = \"scatter\", y = \"mediaan\", x = \"X\", ax = ax, color = \"r\")\n",
    "ax6 = df.sort_values(by=\"X\").plot(kind = \"line\", y = \"mediaan\", x = \"X\", ax = ax, color = \"r\")\n",
    "ax.set_ylabel(\"racetijden (seconden)\")\n",
    "ax.set_xlabel(\"Reactiesnelheid (milliseconden)\")"
   ]
  },
  {
   "cell_type": "markdown",
   "metadata": {},
   "source": [
    "## the maths:\n",
    "### calculating the correlation and p-value:"
   ]
  },
  {
   "cell_type": "code",
   "execution_count": null,
   "metadata": {},
   "outputs": [],
   "source": [
    "def numberWithoutRounding(num, precision=3):\n",
    "    [beforeDecimal, afterDecimal] = str(num).split('.')\n",
    "    return beforeDecimal + '.' + afterDecimal[0:precision]\n",
    "\n",
    "def corr1(df):\n",
    "    mask = df.notna().to_numpy()\n",
    "    corr = df.corr().to_numpy()\n",
    "    n_rows, n_cols = df.shape\n",
    "\n",
    "    # Initialize the return arrays for better performance\n",
    "    length = int(n_cols * (n_cols - 1) / 2)\n",
    "    correl = np.empty(length, dtype=np.float64)\n",
    "    count = np.empty(length, dtype=np.uint64)\n",
    "\n",
    "    # For 2-combination of columns, let `n` be the number of pairs whose\n",
    "    # elements are all non-NaN. We will need that later to calculate the\n",
    "    # p-value\n",
    "    k = -1\n",
    "    for i in range(n_cols):\n",
    "        for j in range(i):\n",
    "            n = 0\n",
    "            for row in range(n_rows):\n",
    "                n += 1 if mask[row, i] and mask[row, j] else 0\n",
    "\n",
    "            k += 1\n",
    "            correl[k] = corr[i,j]\n",
    "            count[k] = n\n",
    "            \n",
    "\n",
    "    # The p-value can be obtained with the incomplete Beta function (betainc)\n",
    "    alpha = count / 2 - 1\n",
    "    x = (correl + 1) / 2\n",
    "    x = np.where(correl < 0, x, 1 - x)\n",
    "    p = 2 * scipy.special.betainc(alpha, alpha, x)\n",
    "\n",
    "    confidence = numberWithoutRounding(100 - ((p[0])*100), precision= 2)\n",
    "    col_a, col_b = df.columns\n",
    "    print(f\"Data van het vergelijken van {col_a} en {col_b}:\")\n",
    "    print(f'De bevonden correlatiecoëfficiënt is: {numberWithoutRounding(correl[0])}. ')\n",
    "    print(f'En een bevonden p waarde van: {numberWithoutRounding(p[0])}.')\n",
    "    print(f\"Er is dus een {confidence}% kans dat er een correlatie is.\")\n",
    "    if p <= 0.05:\n",
    "        print(\"Deze bevindingen zijn statistisch significant.\")\n",
    "    else:\n",
    "        print(\"Helaas zijn de bevindingen niet statistisch significant.\")\n",
    "    print(\"\")\n",
    "    print(\"\")\n",
    "    \n",
    "\n",
    "corr1(df[['reactiesnelheid geluid','reactiesnelheid kleur']])\n",
    "corr1(df[['reactiesnelheid geluid','avg tijd']])\n",
    "corr1(df[['reactiesnelheid kleur','avg tijd']])\n",
    "corr1(df[[\"leeftijd\", 'avg tijd']])\n",
    "corr1(df[[\"leeftijd\", \"reactiesnelheid kleur\"]])\n",
    "corr1(df[[\"leeftijd\", \"reactiesnelheid geluid\"]])\n"
   ]
  },
  {
   "cell_type": "markdown",
   "metadata": {},
   "source": [
    "## credits:\n",
    "### function to calculate p-value and correlation:\n",
    "https://stackoverflow.com/questions/64682256/how-to-calculate-a-correlation-with-p-values-most-performant-in-python\n",
    "by: https://stackoverflow.com/users/2538939/code-different\n",
    "### rounding function:\n",
    "https://stackoverflow.com/questions/60250522/how-to-show-exactly-4-numbers-after-decimal-point-without-rounding-in-python\n",
    "by: https://stackoverflow.com/users/4091874/caseygrun"
   ]
  }
 ],
 "metadata": {
  "kernelspec": {
   "display_name": "Python 3 (ipykernel)",
   "language": "python",
   "name": "python3"
  },
  "language_info": {
   "codemirror_mode": {
    "name": "ipython",
    "version": 3
   },
   "file_extension": ".py",
   "mimetype": "text/x-python",
   "name": "python",
   "nbconvert_exporter": "python",
   "pygments_lexer": "ipython3",
   "version": "3.10.11"
  }
 },
 "nbformat": 4,
 "nbformat_minor": 4
}
